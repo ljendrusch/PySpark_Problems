{
 "cells": [
  {
   "cell_type": "code",
   "execution_count": 25,
   "id": "74ee09a0",
   "metadata": {},
   "outputs": [
    {
     "name": "stdout",
     "output_type": "stream",
     "text": [
      "3.10.9 (main, Mar  1 2023, 18:23:06) [GCC 11.2.0]\n"
     ]
    }
   ],
   "source": [
    "import timeit\n",
    "start = timeit.default_timer()\n",
    "\n",
    "import os\n",
    "os.environ['PYARROW_IGNORE_TIMEZONE'] = '1'\n",
    "import sys\n",
    "print(sys.version)"
   ]
  },
  {
   "cell_type": "code",
   "execution_count": 26,
   "id": "3a418295",
   "metadata": {},
   "outputs": [],
   "source": [
    "import numpy as np\n",
    "import pyarrow as pa\n",
    "import pyspark as ps\n",
    "import re"
   ]
  },
  {
   "cell_type": "code",
   "execution_count": 27,
   "id": "6e33d8da",
   "metadata": {
    "scrolled": false
   },
   "outputs": [
    {
     "name": "stdout",
     "output_type": "stream",
     "text": [
      "root\n",
      " |-- _c0: string (nullable = true)\n",
      " |-- _c1: string (nullable = true)\n",
      " |-- _c2: string (nullable = true)\n",
      "\n"
     ]
    }
   ],
   "source": [
    "sp = [spark.read.load('hdfs://orion11:14001/cleaned_books/{:d}'.format(i),\n",
    "                     format='csv',\n",
    "                     sep=',') for i in range(10)]\n",
    "sp[0].printSchema()"
   ]
  },
  {
   "cell_type": "code",
   "execution_count": 28,
   "id": "6051d190",
   "metadata": {},
   "outputs": [],
   "source": [
    "def expand_commas(ta):\n",
    "    for i in range(len(ta)):\n",
    "        ta.extend(ta[0].split(','))\n",
    "        ta.pop(0)\n",
    "\n",
    "def not_numeric(w):\n",
    "    return ord(w[0]) > 57 or ord(w[0]) < 48"
   ]
  },
  {
   "cell_type": "code",
   "execution_count": 29,
   "id": "4e3315af",
   "metadata": {
    "scrolled": false
   },
   "outputs": [],
   "source": [
    "wcrdds = []\n",
    "for i in range(10):\n",
    "    wc = sp[i].rdd \\\n",
    "        .map(lambda x: x[2].split(',')) \\\n",
    "        .flatMap(lambda x: [(w,1) for w in x if not_numeric(w)]) \\\n",
    "        .reduceByKey(lambda a,b: a+b)\n",
    "    wcrdds.append(wc)\n",
    "\n",
    "wcrdd = wcrdds[0]\n",
    "for i in range(1,10):\n",
    "    wcrdd.join(wcrdds[i])\n",
    "\n",
    "wc = wcrdd.sortBy(lambda x: x[1], ascending=False).collect()"
   ]
  },
  {
   "cell_type": "code",
   "execution_count": 30,
   "id": "356d74fb",
   "metadata": {
    "scrolled": false
   },
   "outputs": [
    {
     "name": "stderr",
     "output_type": "stream",
     "text": [
      "                                                                                \r"
     ]
    }
   ],
   "source": [
    "dwcrdds = []\n",
    "for i in range(10):\n",
    "    dwc = sp[i].rdd \\\n",
    "        .map(lambda x: x[2].split(',')) \\\n",
    "        .map(lambda x: [w for w in x if not_numeric(w)]) \\\n",
    "        .map(lambda x: [(x[i],x[i+1]) for i in range(len(x)-1)]) \\\n",
    "        .flatMap(lambda x: [(w,1) for w in x]) \\\n",
    "        .reduceByKey(lambda a,b: a+b)\n",
    "    dwcrdds.append(dwc)\n",
    "\n",
    "dwcrdd = dwcrdds[0]\n",
    "for i in range(1,10):\n",
    "    dwcrdd.join(dwcrdds[i])\n",
    "\n",
    "dwc = dwcrdd.sortBy(lambda x: x[1], ascending=False).filter(lambda x: x[1] > 3).collect()"
   ]
  },
  {
   "cell_type": "code",
   "execution_count": 31,
   "id": "aeb63f74",
   "metadata": {
    "scrolled": false
   },
   "outputs": [
    {
     "name": "stderr",
     "output_type": "stream",
     "text": [
      "/tmp/ipykernel_2352762/1799707140.py:2: VisibleDeprecationWarning: Creating an ndarray from ragged nested sequences (which is a list-or-tuple of lists-or-tuples-or ndarrays with different lengths or shapes) is deprecated. If you meant to do this, you must specify 'dtype=object' when creating the ndarray.\n",
      "  dwc = np.array(dwc)\n"
     ]
    },
    {
     "name": "stdout",
     "output_type": "stream",
     "text": [
      "\n",
      "The collocation ('windle', 'md') occurs 5 times and occupies %100 of\n",
      "the word 'windle's occurences and %12 of the word 'md's occurences\n",
      "\n",
      "The collocation ('muldraughs', 'hill') occurs 4 times and occupies %100 of\n",
      "the word 'muldraughs's occurences and %1 of the word 'hill's occurences\n",
      "\n",
      "The collocation ('edward', 'iiis') occurs 5 times and occupies %2 of\n",
      "the word 'edward's occurences and %100 of the word 'iiis's occurences\n",
      "\n",
      "The collocation ('der', 'liebe_') occurs 5 times and occupies %3 of\n",
      "the word 'der's occurences and %100 of the word 'liebe_'s occurences\n",
      "\n",
      "The collocation ('coup', 'detat') occurs 30 times and occupies %70 of\n",
      "the word 'coup's occurences and %100 of the word 'detat's occurences\n",
      "\n",
      "The collocation ('direction_restore', 'sentences') occurs 5 times and occupies %100 of\n",
      "the word 'direction_restore's occurences and %1 of the word 'sentences's occurences\n",
      "\n",
      "The collocation ('nova', 'scotia') occurs 5 times and occupies %71 of\n",
      "the word 'nova's occurences and %100 of the word 'scotia's occurences\n",
      "\n",
      "The collocation ('de', 'quincey') occurs 5 times and occupies %0 of\n",
      "the word 'de's occurences and %100 of the word 'quincey's occurences\n",
      "\n",
      "The collocation ('la', 'salles') occurs 30 times and occupies %5 of\n",
      "the word 'la's occurences and %100 of the word 'salles's occurences\n",
      "\n",
      "The collocation ('mr', 'cline') occurs 4 times and occupies %0 of\n",
      "the word 'mr's occurences and %100 of the word 'cline's occurences\n",
      "\n",
      "The collocation ('quelle', 'dit') occurs 4 times and occupies %100 of\n",
      "the word 'quelle's occurences and %40 of the word 'dit's occurences\n",
      "\n",
      "The collocation ('amiral', 'courbet') occurs 4 times and occupies %100 of\n",
      "the word 'amiral's occurences and %100 of the word 'courbet's occurences\n",
      "\n",
      "The collocation ('de', 'courcey') occurs 6 times and occupies %0 of\n",
      "the word 'de's occurences and %100 of the word 'courcey's occurences\n",
      "\n",
      "The collocation ('mr', 'gradfield') occurs 8 times and occupies %0 of\n",
      "the word 'mr's occurences and %100 of the word 'gradfield's occurences\n",
      "\n",
      "The collocation ('lundys', 'lane') occurs 10 times and occupies %100 of\n",
      "the word 'lundys's occurences and %7 of the word 'lane's occurences\n",
      "\n",
      "The collocation ('prima', 'facie') occurs 4 times and occupies %18 of\n",
      "the word 'prima's occurences and %100 of the word 'facie's occurences\n",
      "\n",
      "The collocation ('sierra', 'nevadas') occurs 4 times and occupies %24 of\n",
      "the word 'sierra's occurences and %100 of the word 'nevadas's occurences\n",
      "\n",
      "The collocation ('brother', 'ambrosius') occurs 4 times and occupies %0 of\n",
      "the word 'brother's occurences and %100 of the word 'ambrosius's occurences\n",
      "\n",
      "The collocation ('sir', 'thopas') occurs 5 times and occupies %0 of\n",
      "the word 'sir's occurences and %100 of the word 'thopas's occurences\n",
      "\n",
      "The collocation ('major', 'waggaman') occurs 4 times and occupies %0 of\n",
      "the word 'major's occurences and %100 of the word 'waggaman's occurences\n",
      "\n",
      "The collocation ('jeanhenri', 'fabre') occurs 4 times and occupies %100 of\n",
      "the word 'jeanhenri's occurences and %2 of the word 'fabre's occurences\n",
      "\n",
      "The collocation ('old', 'scotty') occurs 5 times and occupies %0 of\n",
      "the word 'old's occurences and %100 of the word 'scotty's occurences\n",
      "\n",
      "The collocation ('neponius', 'pomplio') occurs 5 times and occupies %100 of\n",
      "the word 'neponius's occurences and %83 of the word 'pomplio's occurences\n",
      "\n",
      "The collocation ('van', 'hise') occurs 31 times and occupies %4 of\n",
      "the word 'van's occurences and %100 of the word 'hise's occurences\n",
      "\n",
      "The collocation ('ayay', 'sir') occurs 4 times and occupies %100 of\n",
      "the word 'ayay's occurences and %0 of the word 'sir's occurences\n",
      "\n",
      "The collocation ('de', 'werff') occurs 31 times and occupies %2 of\n",
      "the word 'de's occurences and %100 of the word 'werff's occurences\n",
      "\n",
      "The collocation ('skullless', 'vertebrae') occurs 6 times and occupies %100 of\n",
      "the word 'skullless's occurences and %75 of the word 'vertebrae's occurences\n",
      "\n",
      "The collocation ('per', 'annum') occurs 11 times and occupies %2 of\n",
      "the word 'per's occurences and %100 of the word 'annum's occurences\n",
      "\n",
      "The collocation ('gather', 'entwine') occurs 6 times and occupies %3 of\n",
      "the word 'gather's occurences and %100 of the word 'entwine's occurences\n",
      "\n",
      "The collocation ('double', 'crassier') occurs 5 times and occupies %1 of\n",
      "the word 'double's occurences and %100 of the word 'crassier's occurences\n",
      "\n",
      "The collocation ('manny', 'panny') occurs 7 times and occupies %88 of\n",
      "the word 'manny's occurences and %100 of the word 'panny's occurences\n",
      "\n",
      "The collocation ('withrows', 'history') occurs 7 times and occupies %100 of\n",
      "the word 'withrows's occurences and %1 of the word 'history's occurences\n",
      "\n",
      "The collocation ('el', 'culoub') occurs 11 times and occupies %20 of\n",
      "the word 'el's occurences and %100 of the word 'culoub's occurences\n",
      "\n",
      "The collocation ('houts', 'daughter') occurs 5 times and occupies %100 of\n",
      "the word 'houts's occurences and %0 of the word 'daughter's occurences\n",
      "\n",
      "The collocation ('high', 'velocities') occurs 8 times and occupies %0 of\n",
      "the word 'high's occurences and %100 of the word 'velocities's occurences\n",
      "\n",
      "The collocation ('pitys', 'sake') occurs 5 times and occupies %100 of\n",
      "the word 'pitys's occurences and %1 of the word 'sake's occurences\n",
      "\n",
      "The collocation ('appian', 'way') occurs 8 times and occupies %100 of\n",
      "the word 'appian's occurences and %0 of the word 'way's occurences\n",
      "\n",
      "The collocation ('kanya', 'kubja') occurs 8 times and occupies %80 of\n",
      "the word 'kanya's occurences and %100 of the word 'kubja's occurences\n",
      "\n",
      "The collocation ('cours', 'sauvaire') occurs 18 times and occupies %82 of\n",
      "the word 'cours's occurences and %100 of the word 'sauvaire's occurences\n",
      "\n",
      "The collocation ('dr', 'binnie') occurs 10 times and occupies %1 of\n",
      "the word 'dr's occurences and %100 of the word 'binnie's occurences\n",
      "\n",
      "The collocation ('_tour', 'de') occurs 4 times and occupies %100 of\n",
      "the word '_tour's occurences and %0 of the word 'de's occurences\n",
      "\n",
      "The collocation ('mrs', 'allison') occurs 28 times and occupies %1 of\n",
      "the word 'mrs's occurences and %100 of the word 'allison's occurences\n",
      "\n",
      "The collocation ('_a', 'little_') occurs 4 times and occupies %5 of\n",
      "the word '_a's occurences and %100 of the word 'little_'s occurences\n",
      "\n",
      "The collocation ('heyat', 'en') occurs 28 times and occupies %100 of\n",
      "the word 'heyat's occurences and %25 of the word 'en's occurences\n",
      "\n",
      "The collocation ('jean', 'michels') occurs 8 times and occupies %6 of\n",
      "the word 'jean's occurences and %100 of the word 'michels's occurences\n",
      "\n",
      "The collocation ('de', 'maupassant') occurs 4 times and occupies %0 of\n",
      "the word 'de's occurences and %100 of the word 'maupassant's occurences\n",
      "\n",
      "The collocation ('boer', 'war') occurs 8 times and occupies %100 of\n",
      "the word 'boer's occurences and %0 of the word 'war's occurences\n",
      "\n",
      "The collocation ('von', 'plaanden') occurs 27 times and occupies %19 of\n",
      "the word 'von's occurences and %100 of the word 'plaanden's occurences\n",
      "\n",
      "The collocation ('_the', 'hibbert') occurs 8 times and occupies %3 of\n",
      "the word '_the's occurences and %100 of the word 'hibbert's occurences\n",
      "\n",
      "The collocation ('mc', 'k') occurs 8 times and occupies %100 of\n",
      "the word 'mc's occurences and %9 of the word 'k's occurences\n"
     ]
    }
   ],
   "source": [
    "wc_dict = dict(wc)\n",
    "dwc = np.array(dwc)\n",
    "\n",
    "# [ left_word_ct right_word_ct ] / colloc_ct\n",
    "collocs = np.empty((0,4),dtype=np.float32)\n",
    "# (('dont', 'know'), 977)\n",
    "for d in dwc:\n",
    "    nar = np.array([100*d[1]/wc_dict[d[0][0]], 100*d[1]/wc_dict[d[0][1]], 0, d[1]],dtype=np.float32)\n",
    "    nar[2] = np.max(nar[:2])\n",
    "    collocs = np.vstack((collocs,nar))\n",
    "\n",
    "reorder = np.argsort(collocs[:,2])[::-1]\n",
    "dwc_nar = np.array(dwc)[reorder]\n",
    "collocs = collocs[reorder]\n",
    "for i in range(50):\n",
    "    print(\"\\nThe collocation {} occurs {:d} times and occupies %{:.0f} of\".format(dwc_nar[i][0], dwc_nar[i][1], collocs[i,0]))\n",
    "    print(\"the word '{}'s occurences and %{:.0f} of the word '{}'s occurences\".format(dwc_nar[i][0][0], collocs[i,1], dwc_nar[i][0][1]))"
   ]
  },
  {
   "cell_type": "code",
   "execution_count": 32,
   "id": "788e0f89",
   "metadata": {},
   "outputs": [
    {
     "name": "stdout",
     "output_type": "stream",
     "text": [
      "17.914089977974072\n"
     ]
    }
   ],
   "source": [
    "print(timeit.default_timer()-start)"
   ]
  }
 ],
 "metadata": {
  "kernelspec": {
   "display_name": "Python 3 (ipykernel)",
   "language": "python",
   "name": "python3"
  },
  "language_info": {
   "codemirror_mode": {
    "name": "ipython",
    "version": 3
   },
   "file_extension": ".py",
   "mimetype": "text/x-python",
   "name": "python",
   "nbconvert_exporter": "python",
   "pygments_lexer": "ipython3",
   "version": "3.10.9"
  }
 },
 "nbformat": 4,
 "nbformat_minor": 5
}
