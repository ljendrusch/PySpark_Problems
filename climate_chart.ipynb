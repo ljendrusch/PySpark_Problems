{
 "cells": [
  {
   "cell_type": "code",
   "execution_count": 12,
   "id": "43439d1b",
   "metadata": {},
   "outputs": [
    {
     "name": "stdout",
     "output_type": "stream",
     "text": [
      "3.10.9 (main, Mar  1 2023, 18:23:06) [GCC 11.2.0]\n"
     ]
    }
   ],
   "source": [
    "import timeit\n",
    "start = timeit.default_timer()\n",
    "\n",
    "import os\n",
    "os.environ['PYARROW_IGNORE_TIMEZONE'] = '1'\n",
    "import sys\n",
    "print(sys.version)"
   ]
  },
  {
   "cell_type": "code",
   "execution_count": 13,
   "id": "ab6d0fa7",
   "metadata": {},
   "outputs": [],
   "source": [
    "from datetime import datetime, timezone\n",
    "import numpy as np\n",
    "import pyarrow as pa\n",
    "import geohash_tools as gh\n",
    "import pyspark as ps\n",
    "\n",
    "import matplotlib.pyplot as plt\n",
    "import matplotlib.patches as patches\n",
    "import matplotlib.gridspec as gridspec\n",
    "import matplotlib\n",
    "# from matplotlib import rc"
   ]
  },
  {
   "cell_type": "code",
   "execution_count": 14,
   "id": "295301d0",
   "metadata": {},
   "outputs": [
    {
     "name": "stderr",
     "output_type": "stream",
     "text": [
      "                                                                                \r"
     ]
    }
   ],
   "source": [
    "sp = spark.read.load('hdfs://orion11:14001/nam/2019/01/05/*',\n",
    "                     format='csv',\n",
    "                     sep='\\t',\n",
    "                     inferSchema='true',\n",
    "                     header='true')\n",
    "\n",
    "schema = sp.schema\n",
    "\n",
    "sp = spark.read.schema(schema).load('hdfs://orion11:14001/nam/201*/*/*/*',\n",
    "                     format='csv',\n",
    "                     sep='\\t',\n",
    "                     header='true')"
   ]
  },
  {
   "cell_type": "code",
   "execution_count": 15,
   "id": "db3e1ba7",
   "metadata": {},
   "outputs": [
    {
     "name": "stderr",
     "output_type": "stream",
     "text": [
      "[Stage 5:=================================================>    (113 + 10) / 123]\r"
     ]
    },
    {
     "name": "stdout",
     "output_type": "stream",
     "text": [
      "f43k6g\n"
     ]
    }
   ],
   "source": [
    "geohash = input()\n",
    "if len(geohash) > 6:\n",
    "    geohash = geohash[:6]\n",
    "# f43k6g"
   ]
  },
  {
   "cell_type": "code",
   "execution_count": 16,
   "id": "f16f9436",
   "metadata": {},
   "outputs": [
    {
     "name": "stdout",
     "output_type": "stream",
     "text": [
      "Row(1_time=1504602000000, 2_lat=58.424226538128224, 3_lon=-88.11817117586963, albedo_surface=6.0, precipitable_water_entire_atmosphere_single_layer=19.470325, pressure_maximum_wind=29965.646, pressure_surface=100906.21, pressure_tropopause=25109.357, relative_humidity_zerodegc_isotherm=74.0, snow_depth_surface=0.0, temperature_surface=282.89194, temperature_tropopause=217.00394, total_cloud_cover_entire_atmosphere_single_layer=100.0, total_precipitation_surface_3_hour_accumulation=0.0625, vegetation_surface=0.0, visibility_surface=24100.0, wilting_point_surface=0.0, wind_speed_gust_surface=15.601766, _c18=None)\n"
     ]
    },
    {
     "name": "stderr",
     "output_type": "stream",
     "text": [
      "\r",
      "                                                                                \r"
     ]
    }
   ],
   "source": [
    "print(sp.rdd.first())"
   ]
  },
  {
   "cell_type": "code",
   "execution_count": 17,
   "id": "22a60733",
   "metadata": {},
   "outputs": [],
   "source": [
    "def c2f(t):\n",
    "    return (t*9/5.0)+32\n",
    "\n",
    "def k2c(t):\n",
    "    return t-273.15\n",
    "\n",
    "def k2f(t):\n",
    "    return (t*9/5.0)-459.67\n",
    "\n",
    "def disable_spines(ax):\n",
    "    for s in ax.spines:\n",
    "        ax.spines[s].set_visible(False)\n",
    "\n",
    "# rc('font',**{'family':'sans-serif','sans-serif':['Arial']})\n",
    "\n",
    "use_c = True\n",
    "converter = k2c if use_c else k2f"
   ]
  },
  {
   "cell_type": "code",
   "execution_count": 18,
   "id": "84e049db",
   "metadata": {},
   "outputs": [],
   "source": [
    "# epochs = sorted(sp.rdd.map(lambda x: x[0]).distinct().collect())\n",
    "\n",
    "# print('# unique epochs:', len(epochs))\n",
    "# print('min epoch:', min(epochs), 'max epoch:', max(epochs))\n",
    "# print(epochs)"
   ]
  },
  {
   "cell_type": "code",
   "execution_count": 19,
   "id": "adaadfa6",
   "metadata": {},
   "outputs": [],
   "source": [
    "# epoch_deltas = {}\n",
    "# for i in range(len(epochs)-1):\n",
    "#     if epochs[i+1]-epochs[i] in epoch_deltas:\n",
    "#         epoch_deltas[epochs[i+1]-epochs[i]] += 1\n",
    "#     else:\n",
    "#         epoch_deltas[epochs[i+1]-epochs[i]] = 1\n",
    "# # epoch_deltas = sorted(epoch_deltas)\n",
    "# print(sorted([e/60/60/1000 for e in epoch_deltas]))\n",
    "# # print(epoch_deltas/(60*60*24))"
   ]
  },
  {
   "cell_type": "code",
   "execution_count": 20,
   "id": "0ff2ec5f",
   "metadata": {
    "scrolled": false
   },
   "outputs": [],
   "source": [
    "data = sp.rdd \\\n",
    "    .map(lambda x: ( gh.encode(x[1], x[2]),\\\n",
    "                    datetime.fromtimestamp(x[0]/1000, timezone.utc).year,\\\n",
    "                    datetime.fromtimestamp(x[0]/1000, timezone.utc).month,\\\n",
    "                    converter(x[10]),\\\n",
    "                    x[13]*2 if use_c else x[13]*2*.0393701 ))\n",
    "\n",
    "# x[13] rain is mm/3hr, change to in/3hr if !use_c by *.0393701"
   ]
  },
  {
   "cell_type": "code",
   "execution_count": 21,
   "id": "b716f77f",
   "metadata": {},
   "outputs": [
    {
     "name": "stdout",
     "output_type": "stream",
     "text": [
      "[('f43k6g', 2017, 9, 9.74194, 0.125), ('c14982', 2017, 9, 15.86193000000003, 0.0), ('dr4vmp', 2017, 9, 17.49194, 0.0), ('c0d1zj', 2017, 9, 16.961940000000027, 0.0), ('9mkc6s', 2017, 9, 21.31194000000005, 0.0), ('f62wg0', 2017, 9, 9.501950000000022, 0.0), ('f1k52d', 2017, 9, 8.431939999999997, 0.0), ('9gb9wc', 2017, 9, 15.81194000000005, 0.125), ('9u53s0', 2017, 9, 30.051930000000027, 50.625), ('c0hrx2', 2017, 9, 18.011930000000007, 0.125)]\n"
     ]
    }
   ],
   "source": [
    "print(data.take(10))"
   ]
  },
  {
   "cell_type": "code",
   "execution_count": 22,
   "id": "eff0dad2",
   "metadata": {
    "scrolled": false
   },
   "outputs": [
    {
     "name": "stderr",
     "output_type": "stream",
     "text": [
      "Exception in thread \"serve RDD 24\" java.net.SocketTimeoutException: Accept timed out\n",
      "\tat java.base/java.net.PlainSocketImpl.socketAccept(Native Method)\n",
      "\tat java.base/java.net.AbstractPlainSocketImpl.accept(AbstractPlainSocketImpl.java:474)\n",
      "\tat java.base/java.net.ServerSocket.implAccept(ServerSocket.java:565)\n",
      "\tat java.base/java.net.ServerSocket.accept(ServerSocket.java:533)\n",
      "\tat org.apache.spark.security.SocketAuthServer$$anon$1.run(SocketAuthServer.scala:64)\n",
      "                                                                                \r"
     ]
    }
   ],
   "source": [
    "def shl_str_cmp(a,b):\n",
    "    if len(a) >= len(b):\n",
    "        return a.startswith(b)\n",
    "    else:\n",
    "        return b.startswith(a)\n",
    "\n",
    "num_years = data.map(lambda x: x[1]).distinct().count()"
   ]
  },
  {
   "cell_type": "code",
   "execution_count": 23,
   "id": "ac3d2df9",
   "metadata": {},
   "outputs": [],
   "source": [
    "def min2(a,b):\n",
    "    return a if a <= b else b\n",
    "\n",
    "def max2(a,b):\n",
    "    return a if a >= b else b\n",
    "\n",
    "# data = ( geohash, year, month, temp, precip ) for every day/time point in dataset\n",
    "# -> include only data from geohash entered\n",
    "# -> reshape to ( month, ( 1, temp, temp, temp, precip ) )\n",
    "# -> sort and reduce to ( month, ( n, sum_temp, min_temp, max_temp, sum_precip ) )\n",
    "# -> reshape to ( month, min_temp, avg_temp, max_temp, avg_precip )\n",
    "\n",
    "# Note: temp is daily avg, precip is avg total monthly accumulation\n",
    "\n",
    "#monthly weather data\n",
    "mwd = data \\\n",
    "    .filter(lambda x: shl_str_cmp(geohash, x[0])) \\\n",
    "    .map(lambda x: (x[2],(1,x[3],x[3],x[3],x[4]))) \\\n",
    "    .reduceByKey(lambda a,b: (a[0]+b[0], a[1]+b[1], min2(a[2],b[2]), max2(a[3],b[3]), a[4]+b[4])) \\\n",
    "    .map(lambda x: (x[0], x[1][2], x[1][1]/x[1][0], x[1][3], x[1][4]/num_years)) \\\n",
    "    .cache()"
   ]
  },
  {
   "cell_type": "code",
   "execution_count": 24,
   "id": "a63dceee",
   "metadata": {},
   "outputs": [
    {
     "name": "stderr",
     "output_type": "stream",
     "text": [
      "                                                                                \r"
     ]
    },
    {
     "data": {
      "image/png": "[encoded data removed]",
      "text/plain": [
       "<Figure size 640x480 with 2 Axes>"
      ]
     },
     "metadata": {},
     "output_type": "display_data"
    }
   ],
   "source": [
    "# data = np.loadtxt(fname=filename)\n",
    "# data[:, 0] = data[:, 0] - 1\n",
    "# data[:, 1] = converter(data[:, 1])\n",
    "# data[:, 2] = converter(data[:, 2])\n",
    "# if use_c == False:\n",
    "#     data[:, 3] = data[:, 3] * 0.0393701\n",
    "# data[:, 4] = converter(data[:, 4])\n",
    "\n",
    "plt.ion()\n",
    "plt.clf()\n",
    "fig = plt.figure(1)\n",
    "fig.subplots_adjust(hspace=.20)\n",
    "gs = gridspec.GridSpec(2, 1, height_ratios=[1.75, 1])\n",
    "ax0 = plt.subplot(gs[0])\n",
    "ax1 = plt.subplot(gs[1], sharex=ax0)\n",
    "plt.setp(ax0.get_xticklabels(), visible=False) # disable upper axis label\n",
    "\n",
    "ax0.patch.set_facecolor('None')\n",
    "ax1.patch.set_facecolor('None')\n",
    "\n",
    "plt.suptitle('Climate Overview: ' + geohash, fontsize=14)\n",
    "\n",
    "if mwd.map(lambda x: x[1]).min() < 5:\n",
    "    y = 0 if use_c else c2f(0)\n",
    "    ax0.plot([0, 12], [y, y], zorder=-1, color='#888888', alpha=.75, dashes=(8, 2))\n",
    "\n",
    "#                      [0 .. 11]          temp_max - temp_min      temp_min\n",
    "rects0 = ax0.bar(.35 + np.arange(0,12), mwd.map(lambda x: x[3]-x[1]).collect(), bottom=mwd.map(lambda x: x[1]).collect(),\n",
    "        width=.6, color='#df3c3c', edgecolor='#731515')\n",
    "\n",
    "#                      [0 .. 11]          precip\n",
    "rects1 = ax1.bar(.35 + np.arange(0,12), mwd.map(lambda x: x[4]).collect(), color='#1b7edb', width=.6,\n",
    "        edgecolor='#1d4871')\n",
    "\n",
    "plt.xticks(np.arange(0,12) + .4, ['Jan', 'Feb', 'Mar', 'Apr', 'May', 'Jun',\n",
    "    'Jul', 'Aug', 'Sep', 'Oct', 'Nov', 'Dec'],\n",
    "    rotation=30)\n",
    "\n",
    "disable_spines(ax0)\n",
    "disable_spines(ax1)\n",
    "ax0.spines['left'].set_visible(True)\n",
    "ax1.spines['left'].set_visible(True)\n",
    "\n",
    "for tic in ax0.xaxis.get_major_ticks():\n",
    "    tic.tick1On = tic.tick2On = False\n",
    "\n",
    "for tic in ax0.yaxis.get_major_ticks():\n",
    "    tic.tick2On = False\n",
    "\n",
    "for tic in ax1.xaxis.get_major_ticks():\n",
    "    tic.tick1On = tic.tick2On = False\n",
    "\n",
    "for tic in ax1.yaxis.get_major_ticks():\n",
    "    tic.tick2On = False\n",
    "\n",
    "for rect in rects1:\n",
    "    height = rect.get_height()\n",
    "    ax1.text(rect.get_x() + rect.get_width()/2., 1.08*height,\n",
    "        '%.1f' % (height), ha='center', va='bottom', color='#1d4871')\n",
    "\n",
    "temp_avg = mwd.map(lambda x: x[2]).collect()\n",
    "for r, rect in enumerate(rects0):\n",
    "    height = rect.get_height()\n",
    "    ax0.text(rect.get_x() + rect.get_width()/2., rect.get_y() + 1.08*height,\n",
    "        '%d' % int(height + rect.get_y()), ha='center', va='bottom',\n",
    "        color='#731515')\n",
    "    ax0.text(rect.get_x() + rect.get_width()/2., rect.get_y() - .24,\n",
    "        '%d' % int(rect.get_y()), ha='center', va='top', color='#731515')\n",
    "    ax0.plot([rect.get_x() + .05, rect.get_x() + rect.get_width() - .05],\n",
    "            [temp_avg[r], temp_avg[r]], color='#731515')\n",
    "\n",
    "if use_c:\n",
    "    ax0.set_ylabel('Temperature (C)')\n",
    "    ax1.set_ylabel('Precipitation (mm)')\n",
    "else:\n",
    "    ax0.set_ylabel('Temperature (F)')\n",
    "    ax1.set_ylabel('Precipitation (in)')"
   ]
  },
  {
   "cell_type": "code",
   "execution_count": 25,
   "id": "16997667",
   "metadata": {},
   "outputs": [
    {
     "name": "stdout",
     "output_type": "stream",
     "text": [
      "527.0752403259976\n"
     ]
    }
   ],
   "source": [
    "print(timeit.default_timer()-start)"
   ]
  }
 ],
 "metadata": {
  "kernelspec": {
   "display_name": "Python 3 (ipykernel)",
   "language": "python",
   "name": "python3"
  },
  "language_info": {
   "codemirror_mode": {
    "name": "ipython",
    "version": 3
   },
   "file_extension": ".py",
   "mimetype": "text/x-python",
   "name": "python",
   "nbconvert_exporter": "python",
   "pygments_lexer": "ipython3",
   "version": "3.10.9"
  }
 },
 "nbformat": 4,
 "nbformat_minor": 5
}
