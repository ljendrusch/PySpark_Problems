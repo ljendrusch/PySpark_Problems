{
 "cells": [
  {
   "cell_type": "code",
   "execution_count": 73,
   "id": "2597df97",
   "metadata": {},
   "outputs": [
    {
     "name": "stdout",
     "output_type": "stream",
     "text": [
      "3.10.9 (main, Mar  1 2023, 18:23:06) [GCC 11.2.0]\n"
     ]
    }
   ],
   "source": [
    "import timeit\n",
    "start = timeit.default_timer()\n",
    "\n",
    "import os\n",
    "os.environ['PYARROW_IGNORE_TIMEZONE'] = '1'\n",
    "import sys\n",
    "print(sys.version)"
   ]
  },
  {
   "cell_type": "code",
   "execution_count": 74,
   "id": "45dcf60c",
   "metadata": {},
   "outputs": [],
   "source": [
    "import numpy as np\n",
    "import pyarrow as pa\n",
    "import pyspark as ps\n",
    "import random\n",
    "import re"
   ]
  },
  {
   "cell_type": "code",
   "execution_count": 75,
   "id": "7a49fc92",
   "metadata": {},
   "outputs": [
    {
     "name": "stderr",
     "output_type": "stream",
     "text": [
      "\r",
      "[Stage 64:>                                                         (0 + 1) / 1]\r",
      "\r",
      "                                                                                \r"
     ]
    },
    {
     "name": "stdout",
     "output_type": "stream",
     "text": [
      "root\n",
      " |-- _c0: string (nullable = true)\n",
      " |-- _c1: string (nullable = true)\n",
      " |-- _c2: string (nullable = true)\n",
      "\n"
     ]
    }
   ],
   "source": [
    "sp = [spark.read.load('hdfs://orion11:14001/cleaned_books/{:d}'.format(i),\n",
    "                     format='csv',\n",
    "                     sep=',') for i in range(10)]\n",
    "sp[0].printSchema()"
   ]
  },
  {
   "cell_type": "code",
   "execution_count": 77,
   "id": "a22f043f",
   "metadata": {},
   "outputs": [],
   "source": [
    "# for each book: absolute length of novel, average word length, and count of distinct words used\n",
    "# rdds are ( title, author, text ) where text is a literal block of text with commas"
   ]
  },
  {
   "cell_type": "code",
   "execution_count": 78,
   "id": "b5d83327",
   "metadata": {},
   "outputs": [],
   "source": [
    "# ( title, author, text )\n",
    "# ( title, abs_len, [ text ] )\n",
    "# ( title, abs_len, num_words, sum_word_lengths, [ text ] )\n",
    "# ( title, abs_len, num_words, sum_word_lengths, [ text ] )\n",
    "# ( title, ( abs_len, avg_word_length, num_distinct ) )\n",
    "\n",
    "srdds = []\n",
    "for i in range(10):\n",
    "    srd = sp[i].rdd \\\n",
    "        .map(lambda x: ( x[0], len(x[0])+len(x[1])+len(x[2]), x[2].split(',') )) \\\n",
    "        .map(lambda x: ( x[0], x[1], len(x[2]), sum([len(w) for w in x[2]]), x[2] )) \\\n",
    "        .map(lambda x: ( x[0], ( x[1], x[3]/x[2], len(set(x[4])) ) ))\n",
    "    srdds.append(srd)\n",
    "\n",
    "srdd = srdds[0]\n",
    "for i in range(1,10):\n",
    "    srdd.join(srdds[i])"
   ]
  },
  {
   "cell_type": "code",
   "execution_count": 79,
   "id": "e628e2c1",
   "metadata": {
    "scrolled": false
   },
   "outputs": [],
   "source": [
    "scales = srdd \\\n",
    "    .map(lambda x: np.vstack(x[1]) ) \\\n",
    "    .reduce(lambda a,b: np.hstack((a,b)))\n",
    "\n",
    "avs_stds = np.hstack(( np.vstack(np.mean(scales,axis=1)), np.vstack(np.std(scales,axis=1)) ))\n",
    "scales -= avs_stds[:,:1]\n",
    "scales = np.divide(scales, avs_stds[:,1:], out=np.zeros_like(scales), where=avs_stds[:,1:]!=0).T"
   ]
  },
  {
   "cell_type": "code",
   "execution_count": 80,
   "id": "6c72becd",
   "metadata": {
    "scrolled": false
   },
   "outputs": [
    {
     "name": "stdout",
     "output_type": "stream",
     "text": [
      "\n",
      "'The Golden Bough' is 8.82 measures sophisticated. Quite.\n",
      "\n",
      "'Andivius Hedulio' is 4.57 measures sophisticated, ole chap.\n",
      "\n",
      "'The Last Chronicle of Barset' is 4.26 measures sophisticated. Verily.\n",
      "\n",
      "'South Wind' is 4.07 measures sophisticated, ole chap!\n",
      "\n",
      "'Medical Essays' is 4.00 measures sophisticated. Verily!\n",
      "\n",
      "'Jean-Christophe, Vol. I' is 3.99 measures sophisticated. Verily.\n",
      "\n",
      "'The Memoirs of General W. T. Sherman, v1' is 3.54 measures sophisticated. Quite!\n",
      "\n",
      "'Now It Can Be Told' is 3.37 measures sophisticated. Quite!\n",
      "\n",
      "'The French in the Heart of America' is 3.18 measures sophisticated. Verily!\n",
      "\n",
      "'A Tramp Abroad' is 3.17 measures sophisticated. Indubitably.\n",
      "\n",
      "'Amelia (Complete)' is 2.90 measures sophisticated. Verily.\n",
      "\n",
      "'Janice Meredith' is 2.71 measures sophisticated. Verily.\n",
      "\n",
      "'The Principles Of Aesthetics' is 2.71 measures sophisticated, ole chap.\n",
      "\n",
      "'Zenobia' is 2.56 measures sophisticated. Verily.\n",
      "\n",
      "'The History of England from the Accession of James II, Vol. 5' is 2.55 measures sophisticated. Verily!\n",
      "\n",
      "'Higher Lessons in English' is 2.53 measures sophisticated. Indubitably.\n",
      "\n",
      "'Desperate Remedies' is 2.45 measures sophisticated. Indubitably.\n",
      "\n",
      "'The Fortune of the Rougons' is 2.44 measures sophisticated. Indubitably.\n",
      "\n",
      "'Europe Revised' is 2.43 measures sophisticated. Verily.\n",
      "\n",
      "'How and When to Be Your Own Doctor' is 2.22 measures sophisticated. Indubitably!\n"
     ]
    }
   ],
   "source": [
    "score_sums = np.sum(scales, axis=1)\n",
    "sophistry = np.hstack((np.vstack(srdd.map(lambda x: [x[0]]).collect()), scales, np.vstack(score_sums)))\n",
    "reorder = np.argsort(score_sums)[::-1]\n",
    "\n",
    "remarks = ['. Verily', '. Quite', '. Indubitably', ', ole chap']\n",
    "ends = ['.','!']\n",
    "\n",
    "i = 0\n",
    "for s in sophistry[reorder]:\n",
    "    print(\"\\n'{}' is {} measures sophisticated{}{}\".format(s[0], s[-1][:4], np.random.choice(remarks), np.random.choice(ends)))\n",
    "    if i >= 19:\n",
    "        break\n",
    "    i+=1"
   ]
  },
  {
   "cell_type": "code",
   "execution_count": 81,
   "id": "1fc1bbb7",
   "metadata": {},
   "outputs": [
    {
     "name": "stdout",
     "output_type": "stream",
     "text": [
      "5.3900826489552855\n"
     ]
    }
   ],
   "source": [
    "print(timeit.default_timer()-start)"
   ]
  }
 ],
 "metadata": {
  "kernelspec": {
   "display_name": "Python 3 (ipykernel)",
   "language": "python",
   "name": "python3"
  },
  "language_info": {
   "codemirror_mode": {
    "name": "ipython",
    "version": 3
   },
   "file_extension": ".py",
   "mimetype": "text/x-python",
   "name": "python",
   "nbconvert_exporter": "python",
   "pygments_lexer": "ipython3",
   "version": "3.10.9"
  }
 },
 "nbformat": 4,
 "nbformat_minor": 5
}
