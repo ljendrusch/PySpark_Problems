{
 "cells": [
  {
   "cell_type": "code",
   "execution_count": 7,
   "metadata": {},
   "outputs": [
    {
     "name": "stdout",
     "output_type": "stream",
     "text": [
      "3.10.9 (main, Mar  1 2023, 18:23:06) [GCC 11.2.0]\n"
     ]
    }
   ],
   "source": [
    "import timeit\n",
    "start = timeit.default_timer()\n",
    "\n",
    "import os\n",
    "os.environ['PYARROW_IGNORE_TIMEZONE'] = '1'\n",
    "import sys\n",
    "print(sys.version)"
   ]
  },
  {
   "cell_type": "code",
   "execution_count": 8,
   "metadata": {},
   "outputs": [],
   "source": [
    "import pyarrow as pa\n",
    "import geohash_tools as gh\n",
    "import pyspark as ps"
   ]
  },
  {
   "cell_type": "code",
   "execution_count": 9,
   "metadata": {},
   "outputs": [
    {
     "name": "stderr",
     "output_type": "stream",
     "text": [
      "                                                                                \r"
     ]
    }
   ],
   "source": [
    "sp = spark.read.load('hdfs://orion11:14001/nam/2019/01/05/*',\n",
    "                     format='csv',\n",
    "                     sep='\\t',\n",
    "                     inferSchema='true',\n",
    "                     header='true')\n",
    "\n",
    "schema = sp.schema\n",
    "\n",
    "sp = spark.read.schema(schema).load('hdfs://orion11:14001/nam/201*/*/*/*',\n",
    "                     format='csv',\n",
    "                     sep='\\t',\n",
    "                     header='true')"
   ]
  },
  {
   "cell_type": "code",
   "execution_count": 10,
   "metadata": {},
   "outputs": [],
   "source": [
    "sp = sp.select(['2_lat','3_lon','snow_depth_surface'])"
   ]
  },
  {
   "cell_type": "code",
   "execution_count": 11,
   "metadata": {
    "scrolled": false
   },
   "outputs": [
    {
     "name": "stderr",
     "output_type": "stream",
     "text": [
      "                                                                                \r"
     ]
    }
   ],
   "source": [
    "rddf = sp.rdd \\\n",
    "    .map(lambda x: ( gh.encode(x[0],x[1], 6), (x[2], 1.0)) ) \\\n",
    "    .reduceByKey(lambda av,bv: (av[0]+bv[0], av[1]+bv[1]) ) \\\n",
    "    .map(lambda x: (x[0], x[1][0]/x[1][1])) \\\n",
    "    .sortBy(lambda x: x[1], ascending=False) \\\n",
    "    .cache()"
   ]
  },
  {
   "cell_type": "code",
   "execution_count": 12,
   "metadata": {},
   "outputs": [
    {
     "name": "stderr",
     "output_type": "stream",
     "text": [
      "                                                                                \r"
     ]
    },
    {
     "name": "stdout",
     "output_type": "stream",
     "text": [
      "523165\n",
      "40\n"
     ]
    }
   ],
   "source": [
    "print(rddf.count())\n",
    "strangely_snowy = rddf.filter(lambda x: x[1] > 1.4).collect()\n",
    "print(len(strangely_snowy))"
   ]
  },
  {
   "cell_type": "code",
   "execution_count": 13,
   "metadata": {},
   "outputs": [
    {
     "name": "stdout",
     "output_type": "stream",
     "text": [
      "[('c41ueb', 2.7801569015387004), ('c41uhb', 2.778778995762526), ('c41uxk', 2.5776117425280503), ('c44hg1', 2.5740536200731756), ('c41v48', 2.447659330213517), ('c41vnk', 2.3215498501809746), ('c44j61', 2.3180099222026356), ('c44jc1', 2.0594607913434295), ('c41vtk', 2.059222234628628), ('c41v98', 2.010015243177979), ('c41vbx', 1.9923131194235015), ('c41yhk', 1.8697448553075093), ('c41wrx', 1.82848115190426), ('f2w7rv', 1.7930811062931407), ('c41z4k', 1.787254150867617), ('c41yek', 1.7856631037196025), ('c44h0k', 1.7791885073649456), ('c44hk1', 1.7766683632494222), ('c445v1', 1.7733938505418403), ('c41gtb', 1.7698529617324552), ('c4459s', 1.769420615270361), ('c41z9h', 1.6674425141093867), ('c432rd', 1.6615142480444045), ('c4387r', 1.6598645730263537), ('c41xbf', 1.6546297481815886), ('c41xur', 1.652405921322383), ('c1nmmz', 1.6218227029455232), ('c1nkyt', 1.6203928114292783), ('c1nuq5', 1.5678783532148015), ('c1nhxt', 1.5529354519490612), ('c1nkg1', 1.5521080150537543), ('c43b05', 1.535004015691335), ('c439n5', 1.523140279384729), ('c438fq', 1.5200838173269673), ('c438x5', 1.5110647896126719), ('c43kcu', 1.464041993117545), ('c43k6u', 1.4633020653197113), ('c1ngyf', 1.4336572434014083), ('c44srx', 1.4187333157405058), ('c1pdf3', 1.4118694639205778)]\n"
     ]
    }
   ],
   "source": [
    "print(strangely_snowy)\n",
    "#   2k\n",
    "#  60k\n",
    "# 262k"
   ]
  },
  {
   "cell_type": "code",
   "execution_count": 14,
   "metadata": {
    "scrolled": false
   },
   "outputs": [
    {
     "name": "stderr",
     "output_type": "stream",
     "text": [
      "[Stage 424:====================================================>(122 + 1) / 123]\r"
     ]
    },
    {
     "name": "stdout",
     "output_type": "stream",
     "text": [
      "Location c41ueb has a snowy index of 2.78\n",
      "Its closest neighbors (average distance 44461km), average a snowy index of 0.00\n",
      "Is that strangely snowy or what?\n",
      "\n",
      "Location c41uhb has a snowy index of 2.78\n",
      "Its closest neighbors (average distance 18246km), average a snowy index of 0.00\n",
      "Is that strangely snowy or what?\n",
      "\n",
      "Location c41uxk has a snowy index of 2.58\n",
      "Its closest neighbors (average distance 20679km), average a snowy index of 0.02\n",
      "Is that strangely snowy or what?\n",
      "\n",
      "Location c44hg1 has a snowy index of 2.57\n",
      "Its closest neighbors (average distance 33823km), average a snowy index of 0.00\n",
      "Is that strangely snowy or what?\n",
      "\n",
      "Location c41v48 has a snowy index of 2.45\n",
      "Its closest neighbors (average distance 10874km), average a snowy index of 0.04\n",
      "Is that strangely snowy or what?\n",
      "\n",
      "Location c41vnk has a snowy index of 2.32\n",
      "Its closest neighbors (average distance 14780km), average a snowy index of 0.03\n",
      "Is that strangely snowy or what?\n",
      "\n",
      "Location c44j61 has a snowy index of 2.32\n",
      "Its closest neighbors (average distance 20424km), average a snowy index of 0.00\n",
      "Is that strangely snowy or what?\n",
      "\n",
      "Location c44jc1 has a snowy index of 2.06\n",
      "Its closest neighbors (average distance 30186km), average a snowy index of 0.02\n",
      "Is that strangely snowy or what?\n",
      "\n",
      "Location c41vtk has a snowy index of 2.06\n",
      "Its closest neighbors (average distance 17010km), average a snowy index of 0.03\n",
      "Is that strangely snowy or what?\n",
      "\n",
      "Location c41v98 has a snowy index of 2.01\n",
      "Its closest neighbors (average distance 22624km), average a snowy index of 0.04\n",
      "Is that strangely snowy or what?\n",
      "\n",
      "Location c41vbx has a snowy index of 1.99\n",
      "Its closest neighbors (average distance 16534km), average a snowy index of 0.12\n",
      "Is that strangely snowy or what?\n",
      "\n",
      "Location c41yhk has a snowy index of 1.87\n",
      "Its closest neighbors (average distance 28393km), average a snowy index of 0.05\n",
      "Is that strangely snowy or what?\n",
      "\n",
      "Location c41wrx has a snowy index of 1.83\n",
      "Its closest neighbors (average distance 26902km), average a snowy index of 0.05\n",
      "Is that strangely snowy or what?\n",
      "\n",
      "Location f2w7rv has a snowy index of 1.79\n",
      "Its closest neighbors (average distance 16273km), average a snowy index of 0.00\n",
      "Is that strangely snowy or what?\n",
      "\n",
      "Location c41z4k has a snowy index of 1.79\n",
      "Its closest neighbors (average distance 39403km), average a snowy index of 0.01\n",
      "Is that strangely snowy or what?\n",
      "\n",
      "Location c41yek has a snowy index of 1.79\n",
      "Its closest neighbors (average distance 32322km), average a snowy index of 0.00\n",
      "Is that strangely snowy or what?\n",
      "\n",
      "Location c44h0k has a snowy index of 1.78\n",
      "Its closest neighbors (average distance 28072km), average a snowy index of 0.00\n",
      "Is that strangely snowy or what?\n",
      "\n",
      "Location c44hk1 has a snowy index of 1.78\n",
      "Its closest neighbors (average distance 33191km), average a snowy index of 0.00\n",
      "Is that strangely snowy or what?\n",
      "\n",
      "Location c445v1 has a snowy index of 1.77\n",
      "Its closest neighbors (average distance 16082km), average a snowy index of 0.00\n",
      "Is that strangely snowy or what?\n",
      "\n",
      "Location c41gtb has a snowy index of 1.77\n",
      "Its closest neighbors (average distance 26957km), average a snowy index of 0.07\n",
      "Is that strangely snowy or what?\n",
      "\n",
      "Location c4459s has a snowy index of 1.77\n",
      "Its closest neighbors (average distance 19557km), average a snowy index of 0.00\n",
      "Is that strangely snowy or what?\n",
      "\n",
      "Location c41z9h has a snowy index of 1.67\n",
      "Its closest neighbors (average distance 42134km), average a snowy index of 0.01\n",
      "Is that strangely snowy or what?\n",
      "\n",
      "Location c432rd has a snowy index of 1.66\n",
      "Its closest neighbors (average distance 26647km), average a snowy index of 0.01\n",
      "Is that strangely snowy or what?\n",
      "\n",
      "Location c4387r has a snowy index of 1.66\n",
      "Its closest neighbors (average distance 8324km), average a snowy index of 0.00\n",
      "Is that strangely snowy or what?\n",
      "\n",
      "Location c41xbf has a snowy index of 1.65\n",
      "Its closest neighbors (average distance 38614km), average a snowy index of 0.04\n",
      "Is that strangely snowy or what?\n",
      "\n",
      "Location c41xur has a snowy index of 1.65\n",
      "Its closest neighbors (average distance 17444km), average a snowy index of 0.05\n",
      "Is that strangely snowy or what?\n",
      "\n",
      "Location c1nmmz has a snowy index of 1.62\n",
      "Its closest neighbors (average distance 24708km), average a snowy index of 0.00\n",
      "Is that strangely snowy or what?\n",
      "\n",
      "Location c1nkyt has a snowy index of 1.62\n",
      "Its closest neighbors (average distance 22745km), average a snowy index of 0.05\n",
      "Is that strangely snowy or what?\n",
      "\n",
      "Location c1nuq5 has a snowy index of 1.57\n",
      "Its closest neighbors (average distance 29985km), average a snowy index of 0.01\n",
      "Is that strangely snowy or what?\n",
      "\n",
      "Location c1nhxt has a snowy index of 1.55\n",
      "Its closest neighbors (average distance 27853km), average a snowy index of 0.02\n",
      "Is that strangely snowy or what?\n",
      "\n",
      "Location c1nkg1 has a snowy index of 1.55\n",
      "Its closest neighbors (average distance 30631km), average a snowy index of 0.00\n",
      "Is that strangely snowy or what?\n",
      "\n",
      "Location c43b05 has a snowy index of 1.54\n",
      "Its closest neighbors (average distance 39655km), average a snowy index of 0.01\n",
      "Is that strangely snowy or what?\n",
      "\n",
      "Location c439n5 has a snowy index of 1.52\n",
      "Its closest neighbors (average distance 23472km), average a snowy index of 0.00\n",
      "Is that strangely snowy or what?\n",
      "\n",
      "Location c438fq has a snowy index of 1.52\n",
      "Its closest neighbors (average distance 22138km), average a snowy index of 0.00\n",
      "Is that strangely snowy or what?\n",
      "\n",
      "Location c438x5 has a snowy index of 1.51\n",
      "Its closest neighbors (average distance 26616km), average a snowy index of 0.00\n",
      "Is that strangely snowy or what?\n",
      "\n",
      "Location c43kcu has a snowy index of 1.46\n",
      "Its closest neighbors (average distance 15019km), average a snowy index of 0.00\n",
      "Is that strangely snowy or what?\n",
      "\n",
      "Location c43k6u has a snowy index of 1.46\n",
      "Its closest neighbors (average distance 26320km), average a snowy index of 0.00\n",
      "Is that strangely snowy or what?\n",
      "\n",
      "Location c1ngyf has a snowy index of 1.43\n",
      "Its closest neighbors (average distance 30387km), average a snowy index of 0.00\n",
      "Is that strangely snowy or what?\n",
      "\n",
      "Location c44srx has a snowy index of 1.42\n",
      "Its closest neighbors (average distance 28633km), average a snowy index of 0.01\n",
      "Is that strangely snowy or what?\n",
      "\n",
      "Location c1pdf3 has a snowy index of 1.41\n",
      "Its closest neighbors (average distance 8362km), average a snowy index of 0.22\n",
      "Is that strangely snowy or what?\n",
      "\n"
     ]
    },
    {
     "name": "stderr",
     "output_type": "stream",
     "text": [
      "\r",
      "                                                                                \r"
     ]
    }
   ],
   "source": [
    "for i in range(len(strangely_snowy)):\n",
    "    closest = rddf \\\n",
    "        .map(lambda x: (gh.distance(x[0], strangely_snowy[i][0]), x[1])) \\\n",
    "        .sortByKey() \\\n",
    "        .take(4)[1:] \\\n",
    "\n",
    "    strangely_snowy[i] = strangely_snowy[i] + \\\n",
    "    (sum([c[0] for c in closest]) / len(closest), sum([c[1] for c in closest]) / len(closest))\n",
    "\n",
    "for e in strangely_snowy:\n",
    "    print('Location {} has a snowy index of {:.2f}'.format(e[0], e[1]))\n",
    "    print('Its closest neighbors (average distance {}km), average a snowy index of {:.2f}'.format(int(e[2]), e[3]))\n",
    "    print('Is that strangely snowy or what?\\n')"
   ]
  },
  {
   "cell_type": "code",
   "execution_count": 15,
   "metadata": {},
   "outputs": [
    {
     "name": "stdout",
     "output_type": "stream",
     "text": [
      "885.9681626110105\n"
     ]
    }
   ],
   "source": [
    "print(timeit.default_timer()-start)"
   ]
  }
 ],
 "metadata": {
  "kernelspec": {
   "display_name": "Python 3 (ipykernel)",
   "language": "python",
   "name": "python3"
  },
  "language_info": {
   "codemirror_mode": {
    "name": "ipython",
    "version": 3
   },
   "file_extension": ".py",
   "mimetype": "text/x-python",
   "name": "python",
   "nbconvert_exporter": "python",
   "pygments_lexer": "ipython3",
   "version": "3.10.9"
  }
 },
 "nbformat": 4,
 "nbformat_minor": 2
}
