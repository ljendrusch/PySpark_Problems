{
 "cells": [
  {
   "cell_type": "code",
   "execution_count": 18,
   "id": "0c048bbb",
   "metadata": {},
   "outputs": [
    {
     "name": "stdout",
     "output_type": "stream",
     "text": [
      "3.10.9 (main, Mar  1 2023, 18:23:06) [GCC 11.2.0]\n"
     ]
    }
   ],
   "source": [
    "import timeit\n",
    "start = timeit.default_timer()\n",
    "\n",
    "import os\n",
    "os.environ['PYARROW_IGNORE_TIMEZONE'] = '1'\n",
    "import sys\n",
    "print(sys.version)"
   ]
  },
  {
   "cell_type": "code",
   "execution_count": 19,
   "id": "18307451",
   "metadata": {},
   "outputs": [],
   "source": [
    "from datetime import datetime, timezone\n",
    "import folium\n",
    "from folium.plugins import MarkerCluster\n",
    "import geohash_tools as gh\n",
    "import numpy as np\n",
    "import pyarrow as pa\n",
    "import pyspark as ps"
   ]
  },
  {
   "cell_type": "code",
   "execution_count": 20,
   "id": "f3ab1eea",
   "metadata": {
    "scrolled": false
   },
   "outputs": [
    {
     "name": "stderr",
     "output_type": "stream",
     "text": [
      "                                                                                \r"
     ]
    }
   ],
   "source": [
    "sp = spark.read.load('hdfs://orion11:14001/nam/2019/01/05/*',\n",
    "                     format='csv',\n",
    "                     sep='\\t',\n",
    "                     inferSchema='true',\n",
    "                     header='true')\n",
    "schema = sp.schema\n",
    "\n",
    "sp = spark.read.schema(schema).load('hdfs://orion11:14001/nam/201*/*/*/*',\n",
    "                     format='csv',\n",
    "                     sep='\\t',\n",
    "                     header='true')"
   ]
  },
  {
   "cell_type": "code",
   "execution_count": 21,
   "id": "fa3b81e9",
   "metadata": {},
   "outputs": [],
   "source": [
    "sp = sp.select(['1_time','2_lat','3_lon','temperature_surface','pressure_maximum_wind',\\\n",
    "                'relative_humidity_zerodegc_isotherm','total_precipitation_surface_3_hour_accumulation',\\\n",
    "                'vegetation_surface','visibility_surface'])"
   ]
  },
  {
   "cell_type": "code",
   "execution_count": 22,
   "id": "d183deff",
   "metadata": {},
   "outputs": [],
   "source": [
    "def sum_parts(a,b):\n",
    "    return tuple(a[i]+b[i] for i in range(len(a)))\n",
    "\n",
    "def avg_parts(x):\n",
    "    n = x[-1]\n",
    "    return tuple(e/n for e in x[:-1])"
   ]
  },
  {
   "cell_type": "code",
   "execution_count": 23,
   "id": "9079788e",
   "metadata": {},
   "outputs": [
    {
     "name": "stderr",
     "output_type": "stream",
     "text": [
      "                                                                                \r"
     ]
    }
   ],
   "source": [
    "# ( ( geohash yearmonth ) ( temp wind hmdy prcp veg vis 1 ) )\n",
    "# -> sum, avg, sort features by ( geohash yearmonth )\n",
    "\n",
    "brdd = sp.rdd \\\n",
    "    .map(lambda x: ( ( gh.encode(x[1],x[2],precision=2),\\\n",
    "                     datetime.fromtimestamp(x[0]/1000, timezone.utc).year*100 + datetime.fromtimestamp(x[0]/1000, timezone.utc).month ),\\\n",
    "                     ( x[3],x[4],x[5],x[6],x[7],x[8],1 ) )) \\\n",
    "    .reduceByKey(lambda a,b: sum_parts(a,b)) \\\n",
    "    .map(lambda x: ( x[0], avg_parts(x[1] ))) \\\n",
    "    .sortBy(lambda x: x[0]) \\\n",
    "    .cache()"
   ]
  },
  {
   "cell_type": "code",
   "execution_count": 24,
   "id": "2922659d",
   "metadata": {},
   "outputs": [],
   "source": [
    "def to_lists(x):\n",
    "    return np.vstack(x)\n",
    "\n",
    "def appends(a,b):\n",
    "    return np.hstack((a,np.vstack(b)))\n",
    "\n",
    "def extends(a,b):\n",
    "    return np.hstack((a,b))\n",
    "\n",
    "def means_stdevs(x):\n",
    "    return np.hstack((np.vstack(np.mean(x,axis=1)),np.vstack(np.std(x,axis=1))))\n",
    "\n",
    "def pcc_corrs(features, means_stds, n):\n",
    "    features -= means_stds[:,:1]\n",
    "    features = np.sum(features[1:]*features[0], axis=1) / n\n",
    "    stdvs = means_stds[1:,1]*means_stds[0,1]\n",
    "    return np.divide(features, stdvs, out=np.zeros_like(features), where=stdvs!=0)"
   ]
  },
  {
   "cell_type": "code",
   "execution_count": 25,
   "id": "122faecd",
   "metadata": {},
   "outputs": [
    {
     "name": "stderr",
     "output_type": "stream",
     "text": [
      "                                                                                \r"
     ]
    }
   ],
   "source": [
    "gh2s = brdd.map(lambda x: x[0][0]).distinct().sortBy(lambda x: x[0]).collect()\n",
    "n = brdd.filter(lambda x: x[0][0] == gh2s[0]).count()\n",
    "n_fts = len(sp.columns)-3"
   ]
  },
  {
   "cell_type": "code",
   "execution_count": 26,
   "id": "e66046c5",
   "metadata": {
    "scrolled": true
   },
   "outputs": [],
   "source": [
    "# for every geohash\n",
    "# filter for specific geohash\n",
    "# ( geohash ( temp wind hmdy prcp veg vis ) ) # 60 records per geohash; averages of all features per month\n",
    "# -> np.array w/ shape 6,60, basically transposing the RDD's into an np array; here npa[0,:] is 60 temperature values\n",
    "# -> ( features_npa, means_and_stddevs_npa )\n",
    "#      features_npa.shape = 6,60, means_and_stddevs_npa.shape = 6,2; [:,0] is means [:,1] is stddevs\n",
    "# -> pcc_correlations_npa\n",
    "\n",
    "pcc_corr_by_gh2 = np.empty((0,5),dtype=np.float32)\n",
    "for i in range(len(gh2s)):\n",
    "    nar = brdd \\\n",
    "        .filter(lambda x: x[0][0] == gh2s[i]) \\\n",
    "        .map(lambda x: ( x[0][0], x[1] )) \\\n",
    "        .combineByKey(to_lists, appends, extends) \\\n",
    "        .map(lambda x: (x[1], means_stdevs(x[1]))) \\\n",
    "        .map(lambda x: pcc_corrs(x[0],x[1],n)) \\\n",
    "        .collect()[0]\n",
    "    pcc_corr_by_gh2 = np.vstack((pcc_corr_by_gh2, nar))"
   ]
  },
  {
   "cell_type": "code",
   "execution_count": 27,
   "id": "3f267995",
   "metadata": {
    "scrolled": false
   },
   "outputs": [
    {
     "name": "stdout",
     "output_type": "stream",
     "text": [
      "\n",
      ">>>> Global Max Positive Correlations <<<<\n",
      "\n",
      "Geohash region 'dh', feature 'vegetation_surface'\n",
      "  0.964572490339564\n",
      "\n",
      "Geohash region 'dp', feature 'vegetation_surface'\n",
      "  0.9592737922153067\n",
      "\n",
      "Geohash region 'f2', feature 'vegetation_surface'\n",
      "  0.9583824254826753\n",
      "\n",
      "Geohash region 'c2', feature 'vegetation_surface'\n",
      "  0.9550114720408455\n",
      "\n",
      "Geohash region 'cc', feature 'vegetation_surface'\n",
      "  0.9515366447433111\n",
      "\n",
      "\n",
      ">>>> Global Max Negative Correlations <<<<\n",
      "\n",
      "Geohash region 'f8', feature 'relative_humidity_zerodegc_isotherm'\n",
      "  -0.8498466690525379\n",
      "\n",
      "Geohash region '9m', feature 'vegetation_surface'\n",
      "  -0.8295065501993546\n",
      "\n",
      "Geohash region 'fb', feature 'relative_humidity_zerodegc_isotherm'\n",
      "  -0.8118559372483265\n",
      "\n",
      "Geohash region 'dr', feature 'relative_humidity_zerodegc_isotherm'\n",
      "  -0.809929596789645\n",
      "\n",
      "Geohash region 'cb', feature 'relative_humidity_zerodegc_isotherm'\n",
      "  -0.8024115730606475\n",
      "\n",
      "\n",
      ">>>> Feature-Wise Max Positive Correlations <<<<\n",
      "\n",
      "Geohash region 'dm', feature 'pressure_maximum_wind'\n",
      "  0.5430427484228759\n",
      "\n",
      "Geohash region 'dh', feature 'relative_humidity_zerodegc_isotherm'\n",
      "  0.7471430857779151\n",
      "\n",
      "Geohash region '9s', feature 'total_precipitation_surface_3_hour_accumulation'\n",
      "  0.5784499539776142\n",
      "\n",
      "Geohash region 'dh', feature 'vegetation_surface'\n",
      "  0.964572490339564\n",
      "\n",
      "Geohash region 'c2', feature 'visibility_surface'\n",
      "  0.8534034958625663\n",
      "\n",
      "\n",
      ">>>> Feature-Wise Max Negative Correlations <<<<\n",
      "\n",
      "Geohash region 'c0', feature 'pressure_maximum_wind'\n",
      "  -0.6550524014856061\n",
      "\n",
      "Geohash region 'f8', feature 'relative_humidity_zerodegc_isotherm'\n",
      "  -0.8498466690525379\n",
      "\n",
      "Geohash region 'f8', feature 'total_precipitation_surface_3_hour_accumulation'\n",
      "  -0.5316360755638541\n",
      "\n",
      "Geohash region '9m', feature 'vegetation_surface'\n",
      "  -0.8295065501993546\n",
      "\n",
      "Geohash region '9e', feature 'visibility_surface'\n",
      "  -0.6705962466639578\n",
      "\n",
      "\n",
      ">>>> Feature-Wise Correlation Stats <<<<\n",
      "\n",
      "Feature 'pressure_maximum_wind'\n",
      "  Mean: -0.10897459885042773\n",
      "\n",
      "Feature 'relative_humidity_zerodegc_isotherm'\n",
      "  Mean: -0.1965209004421852\n",
      "\n",
      "Feature 'total_precipitation_surface_3_hour_accumulation'\n",
      "  Mean: 0.07403857750360482\n",
      "\n",
      "Feature 'vegetation_surface'\n",
      "  Mean: 0.7526931014306731\n",
      "\n",
      "Feature 'visibility_surface'\n",
      "  Mean: 0.1031458348521253\n",
      "\n"
     ]
    }
   ],
   "source": [
    "# temp wind hmdy prcp veg vis\n",
    "n_cfts = n_fts-1\n",
    "features = sp.columns[-n_cfts:]\n",
    "\n",
    "sorted_idxs = pcc_corr_by_gh2.argsort(axis=None)\n",
    "max_idxs = sorted_idxs[-5:][::-1]\n",
    "min_idxs = sorted_idxs[:5]\n",
    "\n",
    "global_maxes = np.hstack((np.vstack(max_idxs//n_cfts), np.vstack(max_idxs%n_cfts)))\n",
    "global_mins = np.hstack((np.vstack(min_idxs//n_cfts), np.vstack(min_idxs%n_cfts)))\n",
    "\n",
    "feature_maxes = np.hstack((np.vstack(pcc_corr_by_gh2.argmax(axis=0)), np.vstack(np.arange(n_cfts))))\n",
    "feature_mins = np.hstack((np.vstack(pcc_corr_by_gh2.argmin(axis=0)), np.vstack(np.arange(n_cfts))))\n",
    "\n",
    "feature_avgs = np.array([pcc_corr_by_gh2[:,i].mean(where=pcc_corr_by_gh2[:,i]!=0)\n",
    "                         for i in range(n_cfts)])\n",
    "\n",
    "print('\\n>>>> Global Max Positive Correlations <<<<')\n",
    "for idx in global_maxes:\n",
    "    print(\"\\nGeohash region '{}', feature '{}'\".format(gh2s[idx[0]], features[idx[1]]))\n",
    "    print(' ', pcc_corr_by_gh2[idx[0],idx[1]])\n",
    "\n",
    "print('\\n\\n>>>> Global Max Negative Correlations <<<<')\n",
    "for idx in global_mins:\n",
    "    print(\"\\nGeohash region '{}', feature '{}'\".format(gh2s[idx[0]], features[idx[1]]))\n",
    "    print(' ', pcc_corr_by_gh2[idx[0],idx[1]])\n",
    "\n",
    "print('\\n\\n>>>> Feature-Wise Max Positive Correlations <<<<')\n",
    "for idx in feature_maxes:\n",
    "    print(\"\\nGeohash region '{}', feature '{}'\".format(gh2s[idx[0]], features[idx[1]]))\n",
    "    print(' ', pcc_corr_by_gh2[idx[0],idx[1]])\n",
    "\n",
    "print('\\n\\n>>>> Feature-Wise Max Negative Correlations <<<<')\n",
    "for idx in feature_mins:\n",
    "    print(\"\\nGeohash region '{}', feature '{}'\".format(gh2s[idx[0]], features[idx[1]]))\n",
    "    print(' ', pcc_corr_by_gh2[idx[0],idx[1]])\n",
    "\n",
    "print('\\n\\n>>>> Feature-Wise Correlation Stats <<<<')\n",
    "for idx in range(len(feature_avgs)):\n",
    "    print(\"\\nFeature '{}'\".format(features[idx]))\n",
    "    print('  Mean:', feature_avgs[idx])\n",
    "print()"
   ]
  },
  {
   "cell_type": "code",
   "execution_count": 28,
   "id": "96f17084",
   "metadata": {},
   "outputs": [
    {
     "name": "stdout",
     "output_type": "stream",
     "text": [
      "205.48678222799208\n"
     ]
    }
   ],
   "source": [
    "print(timeit.default_timer()-start)"
   ]
  }
 ],
 "metadata": {
  "kernelspec": {
   "display_name": "Python 3 (ipykernel)",
   "language": "python",
   "name": "python3"
  },
  "language_info": {
   "codemirror_mode": {
    "name": "ipython",
    "version": 3
   },
   "file_extension": ".py",
   "mimetype": "text/x-python",
   "name": "python",
   "nbconvert_exporter": "python",
   "pygments_lexer": "ipython3",
   "version": "3.10.9"
  }
 },
 "nbformat": 4,
 "nbformat_minor": 5
}
